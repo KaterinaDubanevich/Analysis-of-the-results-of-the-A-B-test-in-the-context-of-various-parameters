{
 "cells": [
  {
   "cell_type": "markdown",
   "id": "874e73e7",
   "metadata": {},
   "source": [
    "Task: to analyze the results of the A / B test in the context of various parameters. Versions of the page differ in the number of fields to fill out"
   ]
  },
  {
   "cell_type": "code",
   "execution_count": 3,
   "id": "3eacbfa2",
   "metadata": {},
   "outputs": [],
   "source": [
    "import numpy as np\n",
    "import pandas as pd\n",
    "import matplotlib.pyplot as plt\n",
    "from statsmodels.graphics.mosaicplot import mosaic\n",
    "from scipy.stats import fisher_exact"
   ]
  },
  {
   "cell_type": "code",
   "execution_count": 6,
   "id": "846eeef0",
   "metadata": {},
   "outputs": [
    {
     "data": {
      "text/html": [
       "<div>\n",
       "<style scoped>\n",
       "    .dataframe tbody tr th:only-of-type {\n",
       "        vertical-align: middle;\n",
       "    }\n",
       "\n",
       "    .dataframe tbody tr th {\n",
       "        vertical-align: top;\n",
       "    }\n",
       "\n",
       "    .dataframe thead th {\n",
       "        text-align: right;\n",
       "    }\n",
       "</style>\n",
       "<table border=\"1\" class=\"dataframe\">\n",
       "  <thead>\n",
       "    <tr style=\"text-align: right;\">\n",
       "      <th></th>\n",
       "      <th>DEVICES_BRANDS</th>\n",
       "      <th>BROWSERS</th>\n",
       "      <th>DEVICE_TYPE</th>\n",
       "      <th>Conversion</th>\n",
       "      <th>A/B</th>\n",
       "      <th>config_os</th>\n",
       "      <th>config_os_version</th>\n",
       "      <th>config_resolution</th>\n",
       "      <th>idvisit</th>\n",
       "      <th>platform_v4</th>\n",
       "    </tr>\n",
       "  </thead>\n",
       "  <tbody>\n",
       "    <tr>\n",
       "      <th>0</th>\n",
       "      <td>Other</td>\n",
       "      <td>CHROME MOBILE</td>\n",
       "      <td>SMARTPHONE</td>\n",
       "      <td>1</td>\n",
       "      <td>old</td>\n",
       "      <td>AND</td>\n",
       "      <td>7</td>\n",
       "      <td>360x640</td>\n",
       "      <td>4801472</td>\n",
       "      <td>MOB</td>\n",
       "    </tr>\n",
       "    <tr>\n",
       "      <th>1</th>\n",
       "      <td>Other</td>\n",
       "      <td>Other</td>\n",
       "      <td>NaN</td>\n",
       "      <td>1</td>\n",
       "      <td>old</td>\n",
       "      <td>AND</td>\n",
       "      <td>4.3</td>\n",
       "      <td>1440x1440</td>\n",
       "      <td>4790389</td>\n",
       "      <td>MOB</td>\n",
       "    </tr>\n",
       "    <tr>\n",
       "      <th>2</th>\n",
       "      <td>SAMSUNG</td>\n",
       "      <td>CHROME MOBILE</td>\n",
       "      <td>SMARTPHONE</td>\n",
       "      <td>1</td>\n",
       "      <td>new</td>\n",
       "      <td>AND</td>\n",
       "      <td>7</td>\n",
       "      <td>360x640</td>\n",
       "      <td>5272442</td>\n",
       "      <td>MOB</td>\n",
       "    </tr>\n",
       "    <tr>\n",
       "      <th>3</th>\n",
       "      <td>APPLE</td>\n",
       "      <td>MOBILE SAFARI</td>\n",
       "      <td>SMARTPHONE</td>\n",
       "      <td>1</td>\n",
       "      <td>new</td>\n",
       "      <td>IOS</td>\n",
       "      <td>11.3</td>\n",
       "      <td>414x736</td>\n",
       "      <td>5030185</td>\n",
       "      <td>MOB</td>\n",
       "    </tr>\n",
       "    <tr>\n",
       "      <th>4</th>\n",
       "      <td>Other</td>\n",
       "      <td>CHROME MOBILE</td>\n",
       "      <td>SMARTPHONE</td>\n",
       "      <td>1</td>\n",
       "      <td>old</td>\n",
       "      <td>AND</td>\n",
       "      <td>7</td>\n",
       "      <td>360x640</td>\n",
       "      <td>3857978</td>\n",
       "      <td>MOB</td>\n",
       "    </tr>\n",
       "  </tbody>\n",
       "</table>\n",
       "</div>"
      ],
      "text/plain": [
       "  DEVICES_BRANDS       BROWSERS DEVICE_TYPE  Conversion  A/B config_os  \\\n",
       "0          Other  CHROME MOBILE  SMARTPHONE           1  old       AND   \n",
       "1          Other          Other         NaN           1  old       AND   \n",
       "2        SAMSUNG  CHROME MOBILE  SMARTPHONE           1  new       AND   \n",
       "3          APPLE  MOBILE SAFARI  SMARTPHONE           1  new       IOS   \n",
       "4          Other  CHROME MOBILE  SMARTPHONE           1  old       AND   \n",
       "\n",
       "  config_os_version config_resolution  idvisit platform_v4  \n",
       "0                 7           360x640  4801472         MOB  \n",
       "1               4.3         1440x1440  4790389         MOB  \n",
       "2                 7           360x640  5272442         MOB  \n",
       "3              11.3           414x736  5030185         MOB  \n",
       "4                 7           360x640  3857978         MOB  "
      ]
     },
     "execution_count": 6,
     "metadata": {},
     "output_type": "execute_result"
    }
   ],
   "source": [
    "df.head()"
   ]
  },
  {
   "cell_type": "markdown",
   "id": "de1adf8d",
   "metadata": {},
   "source": [
    "Let's check whether user IDs are unique"
   ]
  },
  {
   "cell_type": "code",
   "execution_count": 113,
   "id": "a82777eb",
   "metadata": {},
   "outputs": [
    {
     "data": {
      "text/plain": [
       "True"
      ]
     },
     "execution_count": 113,
     "metadata": {},
     "output_type": "execute_result"
    }
   ],
   "source": [
    "df['idvisit'].nunique() == df.shape[0]"
   ]
  },
  {
   "cell_type": "code",
   "execution_count": 51,
   "id": "835b2255",
   "metadata": {},
   "outputs": [],
   "source": [
    "df['Conversion'] = df['Conversion'].replace({1: 'click', 0: 'no_click'})  \n",
    "df['count'] = 1"
   ]
  },
  {
   "cell_type": "code",
   "execution_count": 44,
   "id": "a81a1c1f",
   "metadata": {},
   "outputs": [],
   "source": [
    "table = pd.pivot_table(df, values='count', index=['Conversion'],\n",
    "                    columns=['A/B'], aggfunc=np.sum)"
   ]
  },
  {
   "cell_type": "code",
   "execution_count": 45,
   "id": "185d9955",
   "metadata": {},
   "outputs": [],
   "source": [
    "table.index = table.index.to_flat_index()"
   ]
  },
  {
   "cell_type": "code",
   "execution_count": 46,
   "id": "2c664ec8",
   "metadata": {},
   "outputs": [],
   "source": [
    "table.columns = table.columns.get_level_values(0).astype(str)"
   ]
  },
  {
   "cell_type": "code",
   "execution_count": 47,
   "id": "a5a3f1e8",
   "metadata": {},
   "outputs": [],
   "source": [
    "table.columns = [''.join(col).strip() for col in table.columns.values]\n",
    "table.index = [''.join(ind).strip() for ind in table.index.values]"
   ]
  },
  {
   "cell_type": "markdown",
   "id": "5c7327fc",
   "metadata": {},
   "source": [
    "Preparing data for analysis using the Fisher test"
   ]
  },
  {
   "cell_type": "code",
   "execution_count": 48,
   "id": "92d8d831",
   "metadata": {},
   "outputs": [
    {
     "data": {
      "text/html": [
       "<div>\n",
       "<style scoped>\n",
       "    .dataframe tbody tr th:only-of-type {\n",
       "        vertical-align: middle;\n",
       "    }\n",
       "\n",
       "    .dataframe tbody tr th {\n",
       "        vertical-align: top;\n",
       "    }\n",
       "\n",
       "    .dataframe thead th {\n",
       "        text-align: right;\n",
       "    }\n",
       "</style>\n",
       "<table border=\"1\" class=\"dataframe\">\n",
       "  <thead>\n",
       "    <tr style=\"text-align: right;\">\n",
       "      <th></th>\n",
       "      <th>new</th>\n",
       "      <th>old</th>\n",
       "    </tr>\n",
       "  </thead>\n",
       "  <tbody>\n",
       "    <tr>\n",
       "      <th>click</th>\n",
       "      <td>340</td>\n",
       "      <td>235</td>\n",
       "    </tr>\n",
       "    <tr>\n",
       "      <th>no_click</th>\n",
       "      <td>1145</td>\n",
       "      <td>821</td>\n",
       "    </tr>\n",
       "  </tbody>\n",
       "</table>\n",
       "</div>"
      ],
      "text/plain": [
       "           new  old\n",
       "click      340  235\n",
       "no_click  1145  821"
      ]
     },
     "execution_count": 48,
     "metadata": {},
     "output_type": "execute_result"
    }
   ],
   "source": [
    "table"
   ]
  },
  {
   "cell_type": "code",
   "execution_count": 19,
   "id": "274b6a33",
   "metadata": {},
   "outputs": [],
   "source": [
    "df_dict = {('new', 'click'): 1865, ('new', 'no_click'): 13564, ('old', 'click'): 1350, \n",
    "           ('old', 'no_click'): 9806}"
   ]
  },
  {
   "cell_type": "code",
   "execution_count": 30,
   "id": "08f832c5",
   "metadata": {},
   "outputs": [
    {
     "data": {
      "image/png": "[encoded data removed]",
      "text/plain": [
       "<Figure size 432x288 with 3 Axes>"
      ]
     },
     "metadata": {
      "needs_background": "light"
     },
     "output_type": "display_data"
    }
   ],
   "source": [
    "mosaic(df_dict)  \n",
    "plt.show()"
   ]
  },
  {
   "cell_type": "code",
   "execution_count": 49,
   "id": "df2423f3",
   "metadata": {},
   "outputs": [
    {
     "data": {
      "text/plain": [
       "(1.037405927715321, 0.736364042948606)"
      ]
     },
     "execution_count": 49,
     "metadata": {},
     "output_type": "execute_result"
    }
   ],
   "source": [
    "oddsr, p = fisher_exact(table=table.to_numpy(), alternative='two-sided')\n",
    "oddsr, p"
   ]
  },
  {
   "cell_type": "markdown",
   "id": "5b70b63d",
   "metadata": {},
   "source": [
    "p-value = 0.74. The differences are not statistically significant"
   ]
  },
  {
   "cell_type": "code",
   "execution_count": null,
   "id": "05f6b816",
   "metadata": {},
   "outputs": [],
   "source": []
  },
  {
   "cell_type": "code",
   "execution_count": 103,
   "id": "9513c020",
   "metadata": {},
   "outputs": [],
   "source": [
    "def highlight_greaterthan(s, threshold, column):\n",
    "    is_max = pd.Series(data=False, index=s.index)\n",
    "    is_max[column] = s.loc[column] == threshold\n",
    "    return ['background-color: orange' if is_max.any() else '' for v in is_max]"
   ]
  },
  {
   "cell_type": "code",
   "execution_count": null,
   "id": "1816921a",
   "metadata": {},
   "outputs": [],
   "source": []
  },
  {
   "cell_type": "markdown",
   "id": "afd8ed44",
   "metadata": {},
   "source": [
    "Now let's look at conversions in terms of different criteria"
   ]
  },
  {
   "cell_type": "code",
   "execution_count": 58,
   "id": "1105332f",
   "metadata": {},
   "outputs": [],
   "source": [
    "DEVICES_BRANDS = df.groupby(['DEVICES_BRANDS','A/B','Conversion'], as_index = False).agg({'count':'count'}).query('Conversion == \"click\"').rename(columns = {'Conversion':'click', 'count':'count_click'})\\\n",
    ".merge(df.groupby(['DEVICES_BRANDS','A/B','Conversion'], as_index = False).agg({'count':'count'}).query('Conversion == \"no_click\"').rename(columns = {'Conversion':'no_click', 'count':'count_no_click'}), how = 'inner', on = ['DEVICES_BRANDS','A/B'])"
   ]
  },
  {
   "cell_type": "code",
   "execution_count": null,
   "id": "155f2984",
   "metadata": {},
   "outputs": [],
   "source": [
    "DEVICES_BRANDS['conversion'] = round(DEVICES_BRANDS['count_click'] / (DEVICES_BRANDS['count_click'] +  DEVICES_BRANDS['count_no_click']) * 100, 2)"
   ]
  },
  {
   "cell_type": "code",
   "execution_count": 104,
   "id": "e5fc48d1",
   "metadata": {},
   "outputs": [
    {
     "data": {
      "text/html": [
       "<style  type=\"text/css\" >\n",
       "#T_e7143_row2_col0,#T_e7143_row2_col1,#T_e7143_row2_col2,#T_e7143_row2_col3,#T_e7143_row2_col4,#T_e7143_row2_col5,#T_e7143_row2_col6,#T_e7143_row3_col0,#T_e7143_row3_col1,#T_e7143_row3_col2,#T_e7143_row3_col3,#T_e7143_row3_col4,#T_e7143_row3_col5,#T_e7143_row3_col6{\n",
       "            background-color:  orange;\n",
       "        }</style><table id=\"T_e7143_\" ><thead>    <tr>        <th class=\"blank level0\" ></th>        <th class=\"col_heading level0 col0\" >DEVICES_BRANDS</th>        <th class=\"col_heading level0 col1\" >A/B</th>        <th class=\"col_heading level0 col2\" >click</th>        <th class=\"col_heading level0 col3\" >count_click</th>        <th class=\"col_heading level0 col4\" >no_click</th>        <th class=\"col_heading level0 col5\" >count_no_click</th>        <th class=\"col_heading level0 col6\" >conversion</th>    </tr></thead><tbody>\n",
       "                <tr>\n",
       "                        <th id=\"T_e7143_level0_row0\" class=\"row_heading level0 row0\" >0</th>\n",
       "                        <td id=\"T_e7143_row0_col0\" class=\"data row0 col0\" >APPLE</td>\n",
       "                        <td id=\"T_e7143_row0_col1\" class=\"data row0 col1\" >new</td>\n",
       "                        <td id=\"T_e7143_row0_col2\" class=\"data row0 col2\" >click</td>\n",
       "                        <td id=\"T_e7143_row0_col3\" class=\"data row0 col3\" >340</td>\n",
       "                        <td id=\"T_e7143_row0_col4\" class=\"data row0 col4\" >no_click</td>\n",
       "                        <td id=\"T_e7143_row0_col5\" class=\"data row0 col5\" >1145</td>\n",
       "                        <td id=\"T_e7143_row0_col6\" class=\"data row0 col6\" >22.900000</td>\n",
       "            </tr>\n",
       "            <tr>\n",
       "                        <th id=\"T_e7143_level0_row1\" class=\"row_heading level0 row1\" >1</th>\n",
       "                        <td id=\"T_e7143_row1_col0\" class=\"data row1 col0\" >APPLE</td>\n",
       "                        <td id=\"T_e7143_row1_col1\" class=\"data row1 col1\" >old</td>\n",
       "                        <td id=\"T_e7143_row1_col2\" class=\"data row1 col2\" >click</td>\n",
       "                        <td id=\"T_e7143_row1_col3\" class=\"data row1 col3\" >235</td>\n",
       "                        <td id=\"T_e7143_row1_col4\" class=\"data row1 col4\" >no_click</td>\n",
       "                        <td id=\"T_e7143_row1_col5\" class=\"data row1 col5\" >821</td>\n",
       "                        <td id=\"T_e7143_row1_col6\" class=\"data row1 col6\" >22.250000</td>\n",
       "            </tr>\n",
       "            <tr>\n",
       "                        <th id=\"T_e7143_level0_row2\" class=\"row_heading level0 row2\" >2</th>\n",
       "                        <td id=\"T_e7143_row2_col0\" class=\"data row2 col0\" >HUAWEI</td>\n",
       "                        <td id=\"T_e7143_row2_col1\" class=\"data row2 col1\" >new</td>\n",
       "                        <td id=\"T_e7143_row2_col2\" class=\"data row2 col2\" >click</td>\n",
       "                        <td id=\"T_e7143_row2_col3\" class=\"data row2 col3\" >32</td>\n",
       "                        <td id=\"T_e7143_row2_col4\" class=\"data row2 col4\" >no_click</td>\n",
       "                        <td id=\"T_e7143_row2_col5\" class=\"data row2 col5\" >198</td>\n",
       "                        <td id=\"T_e7143_row2_col6\" class=\"data row2 col6\" >13.910000</td>\n",
       "            </tr>\n",
       "            <tr>\n",
       "                        <th id=\"T_e7143_level0_row3\" class=\"row_heading level0 row3\" >3</th>\n",
       "                        <td id=\"T_e7143_row3_col0\" class=\"data row3 col0\" >HUAWEI</td>\n",
       "                        <td id=\"T_e7143_row3_col1\" class=\"data row3 col1\" >old</td>\n",
       "                        <td id=\"T_e7143_row3_col2\" class=\"data row3 col2\" >click</td>\n",
       "                        <td id=\"T_e7143_row3_col3\" class=\"data row3 col3\" >16</td>\n",
       "                        <td id=\"T_e7143_row3_col4\" class=\"data row3 col4\" >no_click</td>\n",
       "                        <td id=\"T_e7143_row3_col5\" class=\"data row3 col5\" >170</td>\n",
       "                        <td id=\"T_e7143_row3_col6\" class=\"data row3 col6\" >8.600000</td>\n",
       "            </tr>\n",
       "            <tr>\n",
       "                        <th id=\"T_e7143_level0_row4\" class=\"row_heading level0 row4\" >4</th>\n",
       "                        <td id=\"T_e7143_row4_col0\" class=\"data row4 col0\" >Other</td>\n",
       "                        <td id=\"T_e7143_row4_col1\" class=\"data row4 col1\" >new</td>\n",
       "                        <td id=\"T_e7143_row4_col2\" class=\"data row4 col2\" >click</td>\n",
       "                        <td id=\"T_e7143_row4_col3\" class=\"data row4 col3\" >1161</td>\n",
       "                        <td id=\"T_e7143_row4_col4\" class=\"data row4 col4\" >no_click</td>\n",
       "                        <td id=\"T_e7143_row4_col5\" class=\"data row4 col5\" >9910</td>\n",
       "                        <td id=\"T_e7143_row4_col6\" class=\"data row4 col6\" >10.490000</td>\n",
       "            </tr>\n",
       "            <tr>\n",
       "                        <th id=\"T_e7143_level0_row5\" class=\"row_heading level0 row5\" >5</th>\n",
       "                        <td id=\"T_e7143_row5_col0\" class=\"data row5 col0\" >Other</td>\n",
       "                        <td id=\"T_e7143_row5_col1\" class=\"data row5 col1\" >old</td>\n",
       "                        <td id=\"T_e7143_row5_col2\" class=\"data row5 col2\" >click</td>\n",
       "                        <td id=\"T_e7143_row5_col3\" class=\"data row5 col3\" >867</td>\n",
       "                        <td id=\"T_e7143_row5_col4\" class=\"data row5 col4\" >no_click</td>\n",
       "                        <td id=\"T_e7143_row5_col5\" class=\"data row5 col5\" >7101</td>\n",
       "                        <td id=\"T_e7143_row5_col6\" class=\"data row5 col6\" >10.880000</td>\n",
       "            </tr>\n",
       "            <tr>\n",
       "                        <th id=\"T_e7143_level0_row6\" class=\"row_heading level0 row6\" >6</th>\n",
       "                        <td id=\"T_e7143_row6_col0\" class=\"data row6 col0\" >SAMSUNG</td>\n",
       "                        <td id=\"T_e7143_row6_col1\" class=\"data row6 col1\" >new</td>\n",
       "                        <td id=\"T_e7143_row6_col2\" class=\"data row6 col2\" >click</td>\n",
       "                        <td id=\"T_e7143_row6_col3\" class=\"data row6 col3\" >332</td>\n",
       "                        <td id=\"T_e7143_row6_col4\" class=\"data row6 col4\" >no_click</td>\n",
       "                        <td id=\"T_e7143_row6_col5\" class=\"data row6 col5\" >2311</td>\n",
       "                        <td id=\"T_e7143_row6_col6\" class=\"data row6 col6\" >12.560000</td>\n",
       "            </tr>\n",
       "            <tr>\n",
       "                        <th id=\"T_e7143_level0_row7\" class=\"row_heading level0 row7\" >7</th>\n",
       "                        <td id=\"T_e7143_row7_col0\" class=\"data row7 col0\" >SAMSUNG</td>\n",
       "                        <td id=\"T_e7143_row7_col1\" class=\"data row7 col1\" >old</td>\n",
       "                        <td id=\"T_e7143_row7_col2\" class=\"data row7 col2\" >click</td>\n",
       "                        <td id=\"T_e7143_row7_col3\" class=\"data row7 col3\" >232</td>\n",
       "                        <td id=\"T_e7143_row7_col4\" class=\"data row7 col4\" >no_click</td>\n",
       "                        <td id=\"T_e7143_row7_col5\" class=\"data row7 col5\" >1714</td>\n",
       "                        <td id=\"T_e7143_row7_col6\" class=\"data row7 col6\" >11.920000</td>\n",
       "            </tr>\n",
       "    </tbody></table>"
      ],
      "text/plain": [
       "<pandas.io.formats.style.Styler at 0x1a42a582910>"
      ]
     },
     "execution_count": 104,
     "metadata": {},
     "output_type": "execute_result"
    }
   ],
   "source": [
    "DEVICES_BRANDS.style.apply(highlight_greaterthan, threshold=\"HUAWEI\", column=['DEVICES_BRANDS'], axis=1)"
   ]
  },
  {
   "cell_type": "markdown",
   "id": "5cd33d16",
   "metadata": {},
   "source": [
    "We see that the conversions are different on the \"HUAWEI\" device. To check statistical significance, we will again use Fisher's test"
   ]
  },
  {
   "cell_type": "code",
   "execution_count": 117,
   "id": "bfcdb80e",
   "metadata": {},
   "outputs": [],
   "source": [
    "HUAWEI = pd.pivot_table(df.query('DEVICES_BRANDS == \"HUAWEI\"'), values='count', index=['Conversion'],\n",
    "                    columns=['A/B'], aggfunc=np.sum)\n",
    "HUAWEI.index = HUAWEI.index.to_flat_index()\n",
    "HUAWEI.columns = HUAWEI.columns.get_level_values(0).astype(str)\n",
    "HUAWEI.columns = [''.join(col).strip() for col in HUAWEI.columns.values]\n",
    "HUAWEI.index = [''.join(ind).strip() for ind in HUAWEI.index.values]"
   ]
  },
  {
   "cell_type": "code",
   "execution_count": 119,
   "id": "fe9fa057",
   "metadata": {},
   "outputs": [
    {
     "data": {
      "text/plain": [
       "(1.7171717171717171, 0.12207182806368072)"
      ]
     },
     "execution_count": 119,
     "metadata": {},
     "output_type": "execute_result"
    }
   ],
   "source": [
    "oddsr, p = fisher_exact(table=HUAWEI.to_numpy(), alternative='two-sided')\n",
    "oddsr, p"
   ]
  },
  {
   "cell_type": "markdown",
   "id": "0f9532ce",
   "metadata": {},
   "source": [
    "p-value = 0.12. The differences are not statistically significant"
   ]
  },
  {
   "cell_type": "code",
   "execution_count": null,
   "id": "677fe686",
   "metadata": {},
   "outputs": [],
   "source": []
  },
  {
   "cell_type": "code",
   "execution_count": 64,
   "id": "1ce0cd84",
   "metadata": {},
   "outputs": [],
   "source": [
    "BROWSERS = df.groupby(['BROWSERS','A/B','Conversion'], as_index = False).agg({'count':'count'}).query('Conversion == \"click\"').rename(columns = {'Conversion':'click', 'count':'count_click'})\\\n",
    ".merge(df.groupby(['BROWSERS','A/B','Conversion'], as_index = False).agg({'count':'count'}).query('Conversion == \"no_click\"').rename(columns = {'Conversion':'no_click', 'count':'count_no_click'}), how = 'inner', on = ['BROWSERS','A/B'])"
   ]
  },
  {
   "cell_type": "code",
   "execution_count": 66,
   "id": "b4acb036",
   "metadata": {},
   "outputs": [],
   "source": [
    "BROWSERS['conversion'] = round(BROWSERS['count_click'] / (BROWSERS['count_click'] +  BROWSERS['count_no_click']) * 100, 2)"
   ]
  },
  {
   "cell_type": "code",
   "execution_count": 88,
   "id": "9d03320c",
   "metadata": {},
   "outputs": [
    {
     "data": {
      "text/html": [
       "<style  type=\"text/css\" >\n",
       "#T_1f749_row4_col0,#T_1f749_row4_col1,#T_1f749_row4_col2,#T_1f749_row4_col3,#T_1f749_row4_col4,#T_1f749_row4_col5,#T_1f749_row4_col6,#T_1f749_row5_col0,#T_1f749_row5_col1,#T_1f749_row5_col2,#T_1f749_row5_col3,#T_1f749_row5_col4,#T_1f749_row5_col5,#T_1f749_row5_col6{\n",
       "            background-color:  orange;\n",
       "        }</style><table id=\"T_1f749_\" ><thead>    <tr>        <th class=\"blank level0\" ></th>        <th class=\"col_heading level0 col0\" >BROWSERS</th>        <th class=\"col_heading level0 col1\" >A/B</th>        <th class=\"col_heading level0 col2\" >click</th>        <th class=\"col_heading level0 col3\" >count_click</th>        <th class=\"col_heading level0 col4\" >no_click</th>        <th class=\"col_heading level0 col5\" >count_no_click</th>        <th class=\"col_heading level0 col6\" >conversion</th>    </tr></thead><tbody>\n",
       "                <tr>\n",
       "                        <th id=\"T_1f749_level0_row0\" class=\"row_heading level0 row0\" >0</th>\n",
       "                        <td id=\"T_1f749_row0_col0\" class=\"data row0 col0\" >CHROME</td>\n",
       "                        <td id=\"T_1f749_row0_col1\" class=\"data row0 col1\" >new</td>\n",
       "                        <td id=\"T_1f749_row0_col2\" class=\"data row0 col2\" >click</td>\n",
       "                        <td id=\"T_1f749_row0_col3\" class=\"data row0 col3\" >324</td>\n",
       "                        <td id=\"T_1f749_row0_col4\" class=\"data row0 col4\" >no_click</td>\n",
       "                        <td id=\"T_1f749_row0_col5\" class=\"data row0 col5\" >1133</td>\n",
       "                        <td id=\"T_1f749_row0_col6\" class=\"data row0 col6\" >22.240000</td>\n",
       "            </tr>\n",
       "            <tr>\n",
       "                        <th id=\"T_1f749_level0_row1\" class=\"row_heading level0 row1\" >1</th>\n",
       "                        <td id=\"T_1f749_row1_col0\" class=\"data row1 col0\" >CHROME</td>\n",
       "                        <td id=\"T_1f749_row1_col1\" class=\"data row1 col1\" >old</td>\n",
       "                        <td id=\"T_1f749_row1_col2\" class=\"data row1 col2\" >click</td>\n",
       "                        <td id=\"T_1f749_row1_col3\" class=\"data row1 col3\" >236</td>\n",
       "                        <td id=\"T_1f749_row1_col4\" class=\"data row1 col4\" >no_click</td>\n",
       "                        <td id=\"T_1f749_row1_col5\" class=\"data row1 col5\" >941</td>\n",
       "                        <td id=\"T_1f749_row1_col6\" class=\"data row1 col6\" >20.050000</td>\n",
       "            </tr>\n",
       "            <tr>\n",
       "                        <th id=\"T_1f749_level0_row2\" class=\"row_heading level0 row2\" >2</th>\n",
       "                        <td id=\"T_1f749_row2_col0\" class=\"data row2 col0\" >CHROME MOBILE</td>\n",
       "                        <td id=\"T_1f749_row2_col1\" class=\"data row2 col1\" >new</td>\n",
       "                        <td id=\"T_1f749_row2_col2\" class=\"data row2 col2\" >click</td>\n",
       "                        <td id=\"T_1f749_row2_col3\" class=\"data row2 col3\" >1057</td>\n",
       "                        <td id=\"T_1f749_row2_col4\" class=\"data row2 col4\" >no_click</td>\n",
       "                        <td id=\"T_1f749_row2_col5\" class=\"data row2 col5\" >10689</td>\n",
       "                        <td id=\"T_1f749_row2_col6\" class=\"data row2 col6\" >9.000000</td>\n",
       "            </tr>\n",
       "            <tr>\n",
       "                        <th id=\"T_1f749_level0_row3\" class=\"row_heading level0 row3\" >3</th>\n",
       "                        <td id=\"T_1f749_row3_col0\" class=\"data row3 col0\" >CHROME MOBILE</td>\n",
       "                        <td id=\"T_1f749_row3_col1\" class=\"data row3 col1\" >old</td>\n",
       "                        <td id=\"T_1f749_row3_col2\" class=\"data row3 col2\" >click</td>\n",
       "                        <td id=\"T_1f749_row3_col3\" class=\"data row3 col3\" >790</td>\n",
       "                        <td id=\"T_1f749_row3_col4\" class=\"data row3 col4\" >no_click</td>\n",
       "                        <td id=\"T_1f749_row3_col5\" class=\"data row3 col5\" >7535</td>\n",
       "                        <td id=\"T_1f749_row3_col6\" class=\"data row3 col6\" >9.490000</td>\n",
       "            </tr>\n",
       "            <tr>\n",
       "                        <th id=\"T_1f749_level0_row4\" class=\"row_heading level0 row4\" >4</th>\n",
       "                        <td id=\"T_1f749_row4_col0\" class=\"data row4 col0\" >FIREFOX</td>\n",
       "                        <td id=\"T_1f749_row4_col1\" class=\"data row4 col1\" >new</td>\n",
       "                        <td id=\"T_1f749_row4_col2\" class=\"data row4 col2\" >click</td>\n",
       "                        <td id=\"T_1f749_row4_col3\" class=\"data row4 col3\" >95</td>\n",
       "                        <td id=\"T_1f749_row4_col4\" class=\"data row4 col4\" >no_click</td>\n",
       "                        <td id=\"T_1f749_row4_col5\" class=\"data row4 col5\" >298</td>\n",
       "                        <td id=\"T_1f749_row4_col6\" class=\"data row4 col6\" >24.170000</td>\n",
       "            </tr>\n",
       "            <tr>\n",
       "                        <th id=\"T_1f749_level0_row5\" class=\"row_heading level0 row5\" >5</th>\n",
       "                        <td id=\"T_1f749_row5_col0\" class=\"data row5 col0\" >FIREFOX</td>\n",
       "                        <td id=\"T_1f749_row5_col1\" class=\"data row5 col1\" >old</td>\n",
       "                        <td id=\"T_1f749_row5_col2\" class=\"data row5 col2\" >click</td>\n",
       "                        <td id=\"T_1f749_row5_col3\" class=\"data row5 col3\" >46</td>\n",
       "                        <td id=\"T_1f749_row5_col4\" class=\"data row5 col4\" >no_click</td>\n",
       "                        <td id=\"T_1f749_row5_col5\" class=\"data row5 col5\" >252</td>\n",
       "                        <td id=\"T_1f749_row5_col6\" class=\"data row5 col6\" >15.440000</td>\n",
       "            </tr>\n",
       "            <tr>\n",
       "                        <th id=\"T_1f749_level0_row6\" class=\"row_heading level0 row6\" >6</th>\n",
       "                        <td id=\"T_1f749_row6_col0\" class=\"data row6 col0\" >MOBILE SAFARI</td>\n",
       "                        <td id=\"T_1f749_row6_col1\" class=\"data row6 col1\" >new</td>\n",
       "                        <td id=\"T_1f749_row6_col2\" class=\"data row6 col2\" >click</td>\n",
       "                        <td id=\"T_1f749_row6_col3\" class=\"data row6 col3\" >329</td>\n",
       "                        <td id=\"T_1f749_row6_col4\" class=\"data row6 col4\" >no_click</td>\n",
       "                        <td id=\"T_1f749_row6_col5\" class=\"data row6 col5\" >1099</td>\n",
       "                        <td id=\"T_1f749_row6_col6\" class=\"data row6 col6\" >23.040000</td>\n",
       "            </tr>\n",
       "            <tr>\n",
       "                        <th id=\"T_1f749_level0_row7\" class=\"row_heading level0 row7\" >7</th>\n",
       "                        <td id=\"T_1f749_row7_col0\" class=\"data row7 col0\" >MOBILE SAFARI</td>\n",
       "                        <td id=\"T_1f749_row7_col1\" class=\"data row7 col1\" >old</td>\n",
       "                        <td id=\"T_1f749_row7_col2\" class=\"data row7 col2\" >click</td>\n",
       "                        <td id=\"T_1f749_row7_col3\" class=\"data row7 col3\" >223</td>\n",
       "                        <td id=\"T_1f749_row7_col4\" class=\"data row7 col4\" >no_click</td>\n",
       "                        <td id=\"T_1f749_row7_col5\" class=\"data row7 col5\" >789</td>\n",
       "                        <td id=\"T_1f749_row7_col6\" class=\"data row7 col6\" >22.040000</td>\n",
       "            </tr>\n",
       "            <tr>\n",
       "                        <th id=\"T_1f749_level0_row8\" class=\"row_heading level0 row8\" >8</th>\n",
       "                        <td id=\"T_1f749_row8_col0\" class=\"data row8 col0\" >Other</td>\n",
       "                        <td id=\"T_1f749_row8_col1\" class=\"data row8 col1\" >new</td>\n",
       "                        <td id=\"T_1f749_row8_col2\" class=\"data row8 col2\" >click</td>\n",
       "                        <td id=\"T_1f749_row8_col3\" class=\"data row8 col3\" >60</td>\n",
       "                        <td id=\"T_1f749_row8_col4\" class=\"data row8 col4\" >no_click</td>\n",
       "                        <td id=\"T_1f749_row8_col5\" class=\"data row8 col5\" >345</td>\n",
       "                        <td id=\"T_1f749_row8_col6\" class=\"data row8 col6\" >14.810000</td>\n",
       "            </tr>\n",
       "            <tr>\n",
       "                        <th id=\"T_1f749_level0_row9\" class=\"row_heading level0 row9\" >9</th>\n",
       "                        <td id=\"T_1f749_row9_col0\" class=\"data row9 col0\" >Other</td>\n",
       "                        <td id=\"T_1f749_row9_col1\" class=\"data row9 col1\" >old</td>\n",
       "                        <td id=\"T_1f749_row9_col2\" class=\"data row9 col2\" >click</td>\n",
       "                        <td id=\"T_1f749_row9_col3\" class=\"data row9 col3\" >55</td>\n",
       "                        <td id=\"T_1f749_row9_col4\" class=\"data row9 col4\" >no_click</td>\n",
       "                        <td id=\"T_1f749_row9_col5\" class=\"data row9 col5\" >289</td>\n",
       "                        <td id=\"T_1f749_row9_col6\" class=\"data row9 col6\" >15.990000</td>\n",
       "            </tr>\n",
       "    </tbody></table>"
      ],
      "text/plain": [
       "<pandas.io.formats.style.Styler at 0x1a42a58fc70>"
      ]
     },
     "execution_count": 88,
     "metadata": {},
     "output_type": "execute_result"
    }
   ],
   "source": [
    "BROWSERS.style.apply(highlight_greaterthan, threshold = \"FIREFOX\", column=['BROWSERS'], axis=1)"
   ]
  },
  {
   "cell_type": "markdown",
   "id": "b6d9ec37",
   "metadata": {},
   "source": [
    "We see that y browsers \"FIREFOX\" conversions are different. To check statistical significance, we will again use Fisher's test"
   ]
  },
  {
   "cell_type": "code",
   "execution_count": 123,
   "id": "6d28631d",
   "metadata": {},
   "outputs": [],
   "source": [
    "FIREFOX = pd.pivot_table(df.query('BROWSERS == \"FIREFOX\"'), values='count', index=['Conversion'],\n",
    "                    columns=['A/B'], aggfunc=np.sum)\n",
    "FIREFOX.index = FIREFOX.index.to_flat_index()\n",
    "FIREFOX.columns = FIREFOX.columns.get_level_values(0).astype(str)\n",
    "FIREFOX.columns = [''.join(col).strip() for col in FIREFOX.columns.values]\n",
    "FIREFOX.index = [''.join(ind).strip() for ind in FIREFOX.index.values]"
   ]
  },
  {
   "cell_type": "code",
   "execution_count": 125,
   "id": "1712553e",
   "metadata": {},
   "outputs": [
    {
     "data": {
      "text/plain": [
       "(1.746425444995623, 0.005601489016567228)"
      ]
     },
     "execution_count": 125,
     "metadata": {},
     "output_type": "execute_result"
    }
   ],
   "source": [
    "oddsr, p = fisher_exact(table=FIREFOX.to_numpy(), alternative='two-sided')\n",
    "oddsr, p"
   ]
  },
  {
   "cell_type": "markdown",
   "id": "2dd6d28a",
   "metadata": {},
   "source": [
    "p-value = 0.005. The gender differences are significant"
   ]
  },
  {
   "cell_type": "code",
   "execution_count": null,
   "id": "0858ad16",
   "metadata": {},
   "outputs": [],
   "source": []
  },
  {
   "cell_type": "code",
   "execution_count": 91,
   "id": "b0be683e",
   "metadata": {},
   "outputs": [],
   "source": [
    "DEVICE_TYPE = df.groupby(['DEVICE_TYPE','A/B','Conversion'], as_index = False).agg({'count':'count'}).query('Conversion == \"click\"').rename(columns = {'Conversion':'click', 'count':'count_click'})\\\n",
    ".merge(df.groupby(['DEVICE_TYPE','A/B','Conversion'], as_index = False).agg({'count':'count'}).query('Conversion == \"no_click\"').rename(columns = {'Conversion':'no_click', 'count':'count_no_click'}), how = 'inner', on = ['DEVICE_TYPE','A/B'])"
   ]
  },
  {
   "cell_type": "code",
   "execution_count": 92,
   "id": "ee612083",
   "metadata": {},
   "outputs": [],
   "source": [
    "DEVICE_TYPE['conversion'] = round(DEVICE_TYPE['count_click'] / (DEVICE_TYPE['count_click'] +  DEVICE_TYPE['count_no_click']) * 100, 2)"
   ]
  },
  {
   "cell_type": "code",
   "execution_count": 94,
   "id": "4bb684ca",
   "metadata": {},
   "outputs": [
    {
     "data": {
      "text/html": [
       "<style  type=\"text/css\" >\n",
       "#T_6383f_row0_col0,#T_6383f_row0_col1,#T_6383f_row0_col2,#T_6383f_row0_col3,#T_6383f_row0_col4,#T_6383f_row0_col5,#T_6383f_row0_col6,#T_6383f_row1_col0,#T_6383f_row1_col1,#T_6383f_row1_col2,#T_6383f_row1_col3,#T_6383f_row1_col4,#T_6383f_row1_col5,#T_6383f_row1_col6{\n",
       "            background-color:  orange;\n",
       "        }</style><table id=\"T_6383f_\" ><thead>    <tr>        <th class=\"blank level0\" ></th>        <th class=\"col_heading level0 col0\" >DEVICE_TYPE</th>        <th class=\"col_heading level0 col1\" >A/B</th>        <th class=\"col_heading level0 col2\" >click</th>        <th class=\"col_heading level0 col3\" >count_click</th>        <th class=\"col_heading level0 col4\" >no_click</th>        <th class=\"col_heading level0 col5\" >count_no_click</th>        <th class=\"col_heading level0 col6\" >conversion</th>    </tr></thead><tbody>\n",
       "                <tr>\n",
       "                        <th id=\"T_6383f_level0_row0\" class=\"row_heading level0 row0\" >0</th>\n",
       "                        <td id=\"T_6383f_row0_col0\" class=\"data row0 col0\" >DESKTOP</td>\n",
       "                        <td id=\"T_6383f_row0_col1\" class=\"data row0 col1\" >new</td>\n",
       "                        <td id=\"T_6383f_row0_col2\" class=\"data row0 col2\" >click</td>\n",
       "                        <td id=\"T_6383f_row0_col3\" class=\"data row0 col3\" >380</td>\n",
       "                        <td id=\"T_6383f_row0_col4\" class=\"data row0 col4\" >no_click</td>\n",
       "                        <td id=\"T_6383f_row0_col5\" class=\"data row0 col5\" >1172</td>\n",
       "                        <td id=\"T_6383f_row0_col6\" class=\"data row0 col6\" >24.480000</td>\n",
       "            </tr>\n",
       "            <tr>\n",
       "                        <th id=\"T_6383f_level0_row1\" class=\"row_heading level0 row1\" >1</th>\n",
       "                        <td id=\"T_6383f_row1_col0\" class=\"data row1 col0\" >DESKTOP</td>\n",
       "                        <td id=\"T_6383f_row1_col1\" class=\"data row1 col1\" >old</td>\n",
       "                        <td id=\"T_6383f_row1_col2\" class=\"data row1 col2\" >click</td>\n",
       "                        <td id=\"T_6383f_row1_col3\" class=\"data row1 col3\" >253</td>\n",
       "                        <td id=\"T_6383f_row1_col4\" class=\"data row1 col4\" >no_click</td>\n",
       "                        <td id=\"T_6383f_row1_col5\" class=\"data row1 col5\" >979</td>\n",
       "                        <td id=\"T_6383f_row1_col6\" class=\"data row1 col6\" >20.540000</td>\n",
       "            </tr>\n",
       "            <tr>\n",
       "                        <th id=\"T_6383f_level0_row2\" class=\"row_heading level0 row2\" >2</th>\n",
       "                        <td id=\"T_6383f_row2_col0\" class=\"data row2 col0\" >PHABLET</td>\n",
       "                        <td id=\"T_6383f_row2_col1\" class=\"data row2 col1\" >new</td>\n",
       "                        <td id=\"T_6383f_row2_col2\" class=\"data row2 col2\" >click</td>\n",
       "                        <td id=\"T_6383f_row2_col3\" class=\"data row2 col3\" >39</td>\n",
       "                        <td id=\"T_6383f_row2_col4\" class=\"data row2 col4\" >no_click</td>\n",
       "                        <td id=\"T_6383f_row2_col5\" class=\"data row2 col5\" >284</td>\n",
       "                        <td id=\"T_6383f_row2_col6\" class=\"data row2 col6\" >12.070000</td>\n",
       "            </tr>\n",
       "            <tr>\n",
       "                        <th id=\"T_6383f_level0_row3\" class=\"row_heading level0 row3\" >3</th>\n",
       "                        <td id=\"T_6383f_row3_col0\" class=\"data row3 col0\" >PHABLET</td>\n",
       "                        <td id=\"T_6383f_row3_col1\" class=\"data row3 col1\" >old</td>\n",
       "                        <td id=\"T_6383f_row3_col2\" class=\"data row3 col2\" >click</td>\n",
       "                        <td id=\"T_6383f_row3_col3\" class=\"data row3 col3\" >33</td>\n",
       "                        <td id=\"T_6383f_row3_col4\" class=\"data row3 col4\" >no_click</td>\n",
       "                        <td id=\"T_6383f_row3_col5\" class=\"data row3 col5\" >228</td>\n",
       "                        <td id=\"T_6383f_row3_col6\" class=\"data row3 col6\" >12.640000</td>\n",
       "            </tr>\n",
       "            <tr>\n",
       "                        <th id=\"T_6383f_level0_row4\" class=\"row_heading level0 row4\" >4</th>\n",
       "                        <td id=\"T_6383f_row4_col0\" class=\"data row4 col0\" >SMARTPHONE</td>\n",
       "                        <td id=\"T_6383f_row4_col1\" class=\"data row4 col1\" >new</td>\n",
       "                        <td id=\"T_6383f_row4_col2\" class=\"data row4 col2\" >click</td>\n",
       "                        <td id=\"T_6383f_row4_col3\" class=\"data row4 col3\" >1404</td>\n",
       "                        <td id=\"T_6383f_row4_col4\" class=\"data row4 col4\" >no_click</td>\n",
       "                        <td id=\"T_6383f_row4_col5\" class=\"data row4 col5\" >11869</td>\n",
       "                        <td id=\"T_6383f_row4_col6\" class=\"data row4 col6\" >10.580000</td>\n",
       "            </tr>\n",
       "            <tr>\n",
       "                        <th id=\"T_6383f_level0_row5\" class=\"row_heading level0 row5\" >5</th>\n",
       "                        <td id=\"T_6383f_row5_col0\" class=\"data row5 col0\" >SMARTPHONE</td>\n",
       "                        <td id=\"T_6383f_row5_col1\" class=\"data row5 col1\" >old</td>\n",
       "                        <td id=\"T_6383f_row5_col2\" class=\"data row5 col2\" >click</td>\n",
       "                        <td id=\"T_6383f_row5_col3\" class=\"data row5 col3\" >1025</td>\n",
       "                        <td id=\"T_6383f_row5_col4\" class=\"data row5 col4\" >no_click</td>\n",
       "                        <td id=\"T_6383f_row5_col5\" class=\"data row5 col5\" >8404</td>\n",
       "                        <td id=\"T_6383f_row5_col6\" class=\"data row5 col6\" >10.870000</td>\n",
       "            </tr>\n",
       "            <tr>\n",
       "                        <th id=\"T_6383f_level0_row6\" class=\"row_heading level0 row6\" >6</th>\n",
       "                        <td id=\"T_6383f_row6_col0\" class=\"data row6 col0\" >TABLET</td>\n",
       "                        <td id=\"T_6383f_row6_col1\" class=\"data row6 col1\" >new</td>\n",
       "                        <td id=\"T_6383f_row6_col2\" class=\"data row6 col2\" >click</td>\n",
       "                        <td id=\"T_6383f_row6_col3\" class=\"data row6 col3\" >36</td>\n",
       "                        <td id=\"T_6383f_row6_col4\" class=\"data row6 col4\" >no_click</td>\n",
       "                        <td id=\"T_6383f_row6_col5\" class=\"data row6 col5\" >181</td>\n",
       "                        <td id=\"T_6383f_row6_col6\" class=\"data row6 col6\" >16.590000</td>\n",
       "            </tr>\n",
       "            <tr>\n",
       "                        <th id=\"T_6383f_level0_row7\" class=\"row_heading level0 row7\" >7</th>\n",
       "                        <td id=\"T_6383f_row7_col0\" class=\"data row7 col0\" >TABLET</td>\n",
       "                        <td id=\"T_6383f_row7_col1\" class=\"data row7 col1\" >old</td>\n",
       "                        <td id=\"T_6383f_row7_col2\" class=\"data row7 col2\" >click</td>\n",
       "                        <td id=\"T_6383f_row7_col3\" class=\"data row7 col3\" >38</td>\n",
       "                        <td id=\"T_6383f_row7_col4\" class=\"data row7 col4\" >no_click</td>\n",
       "                        <td id=\"T_6383f_row7_col5\" class=\"data row7 col5\" >152</td>\n",
       "                        <td id=\"T_6383f_row7_col6\" class=\"data row7 col6\" >20.000000</td>\n",
       "            </tr>\n",
       "    </tbody></table>"
      ],
      "text/plain": [
       "<pandas.io.formats.style.Styler at 0x1a42a582490>"
      ]
     },
     "execution_count": 94,
     "metadata": {},
     "output_type": "execute_result"
    }
   ],
   "source": [
    "DEVICE_TYPE.style.apply(highlight_greaterthan, threshold = \"DESKTOP\", column=['DEVICE_TYPE'], axis=1)"
   ]
  },
  {
   "cell_type": "markdown",
   "id": "fa002406",
   "metadata": {},
   "source": [
    "We see that the conversions are different on the \"DESKTOP\" device. To check statistical significance, we will again use Fisher's test"
   ]
  },
  {
   "cell_type": "code",
   "execution_count": 128,
   "id": "ee542a34",
   "metadata": {},
   "outputs": [],
   "source": [
    "DESKTOP = pd.pivot_table(df.query('DEVICE_TYPE == \"DESKTOP\"'), values='count', index=['Conversion'],\n",
    "                    columns=['A/B'], aggfunc=np.sum)\n",
    "DESKTOP.index = DESKTOP.index.to_flat_index()\n",
    "DESKTOP.columns = DESKTOP.columns.get_level_values(0).astype(str)\n",
    "DESKTOP.columns = [''.join(col).strip() for col in DESKTOP.columns.values]\n",
    "DESKTOP.index = [''.join(ind).strip() for ind in DESKTOP.index.values]"
   ]
  },
  {
   "cell_type": "code",
   "execution_count": 129,
   "id": "0dffc102",
   "metadata": {},
   "outputs": [
    {
     "data": {
      "text/plain": [
       "(1.254637186526191, 0.013976257223016791)"
      ]
     },
     "execution_count": 129,
     "metadata": {},
     "output_type": "execute_result"
    }
   ],
   "source": [
    "oddsr, p = fisher_exact(table=DESKTOP.to_numpy(), alternative='two-sided')\n",
    "oddsr, p"
   ]
  },
  {
   "cell_type": "markdown",
   "id": "4bea278b",
   "metadata": {},
   "source": [
    "p-value = 0.01. The differences are not statistically significant"
   ]
  },
  {
   "cell_type": "code",
   "execution_count": null,
   "id": "b554a3e8",
   "metadata": {},
   "outputs": [],
   "source": []
  },
  {
   "cell_type": "code",
   "execution_count": 96,
   "id": "65fa632d",
   "metadata": {},
   "outputs": [],
   "source": [
    "config_os = df.groupby(['config_os','A/B','Conversion'], as_index = False).agg({'count':'count'}).query('Conversion == \"click\"').rename(columns = {'Conversion':'click', 'count':'count_click'})\\\n",
    ".merge(df.groupby(['config_os','A/B','Conversion'], as_index = False).agg({'count':'count'}).query('Conversion == \"no_click\"').rename(columns = {'Conversion':'no_click', 'count':'count_no_click'}), how = 'inner', on = ['config_os','A/B'])"
   ]
  },
  {
   "cell_type": "code",
   "execution_count": 97,
   "id": "482b0273",
   "metadata": {},
   "outputs": [],
   "source": [
    "config_os['conversion'] = round(config_os['count_click'] / (config_os['count_click'] +  config_os['count_no_click']) * 100, 2)"
   ]
  },
  {
   "cell_type": "code",
   "execution_count": 105,
   "id": "b5852777",
   "metadata": {},
   "outputs": [
    {
     "data": {
      "text/html": [
       "<style  type=\"text/css\" >\n",
       "#T_18e09_row10_col0,#T_18e09_row10_col1,#T_18e09_row10_col2,#T_18e09_row10_col3,#T_18e09_row10_col4,#T_18e09_row10_col5,#T_18e09_row10_col6,#T_18e09_row11_col0,#T_18e09_row11_col1,#T_18e09_row11_col2,#T_18e09_row11_col3,#T_18e09_row11_col4,#T_18e09_row11_col5,#T_18e09_row11_col6{\n",
       "            background-color:  orange;\n",
       "        }</style><table id=\"T_18e09_\" ><thead>    <tr>        <th class=\"blank level0\" ></th>        <th class=\"col_heading level0 col0\" >config_os</th>        <th class=\"col_heading level0 col1\" >A/B</th>        <th class=\"col_heading level0 col2\" >click</th>        <th class=\"col_heading level0 col3\" >count_click</th>        <th class=\"col_heading level0 col4\" >no_click</th>        <th class=\"col_heading level0 col5\" >count_no_click</th>        <th class=\"col_heading level0 col6\" >conversion</th>    </tr></thead><tbody>\n",
       "                <tr>\n",
       "                        <th id=\"T_18e09_level0_row0\" class=\"row_heading level0 row0\" >0</th>\n",
       "                        <td id=\"T_18e09_row0_col0\" class=\"data row0 col0\" >AND</td>\n",
       "                        <td id=\"T_18e09_row0_col1\" class=\"data row0 col1\" >new</td>\n",
       "                        <td id=\"T_18e09_row0_col2\" class=\"data row0 col2\" >click</td>\n",
       "                        <td id=\"T_18e09_row0_col3\" class=\"data row0 col3\" >1144</td>\n",
       "                        <td id=\"T_18e09_row0_col4\" class=\"data row0 col4\" >no_click</td>\n",
       "                        <td id=\"T_18e09_row0_col5\" class=\"data row0 col5\" >11210</td>\n",
       "                        <td id=\"T_18e09_row0_col6\" class=\"data row0 col6\" >9.260000</td>\n",
       "            </tr>\n",
       "            <tr>\n",
       "                        <th id=\"T_18e09_level0_row1\" class=\"row_heading level0 row1\" >1</th>\n",
       "                        <td id=\"T_18e09_row1_col0\" class=\"data row1 col0\" >AND</td>\n",
       "                        <td id=\"T_18e09_row1_col1\" class=\"data row1 col1\" >old</td>\n",
       "                        <td id=\"T_18e09_row1_col2\" class=\"data row1 col2\" >click</td>\n",
       "                        <td id=\"T_18e09_row1_col3\" class=\"data row1 col3\" >862</td>\n",
       "                        <td id=\"T_18e09_row1_col4\" class=\"data row1 col4\" >no_click</td>\n",
       "                        <td id=\"T_18e09_row1_col5\" class=\"data row1 col5\" >7946</td>\n",
       "                        <td id=\"T_18e09_row1_col6\" class=\"data row1 col6\" >9.790000</td>\n",
       "            </tr>\n",
       "            <tr>\n",
       "                        <th id=\"T_18e09_level0_row2\" class=\"row_heading level0 row2\" >2</th>\n",
       "                        <td id=\"T_18e09_row2_col0\" class=\"data row2 col0\" >IOS</td>\n",
       "                        <td id=\"T_18e09_row2_col1\" class=\"data row2 col1\" >new</td>\n",
       "                        <td id=\"T_18e09_row2_col2\" class=\"data row2 col2\" >click</td>\n",
       "                        <td id=\"T_18e09_row2_col3\" class=\"data row2 col3\" >340</td>\n",
       "                        <td id=\"T_18e09_row2_col4\" class=\"data row2 col4\" >no_click</td>\n",
       "                        <td id=\"T_18e09_row2_col5\" class=\"data row2 col5\" >1145</td>\n",
       "                        <td id=\"T_18e09_row2_col6\" class=\"data row2 col6\" >22.900000</td>\n",
       "            </tr>\n",
       "            <tr>\n",
       "                        <th id=\"T_18e09_level0_row3\" class=\"row_heading level0 row3\" >3</th>\n",
       "                        <td id=\"T_18e09_row3_col0\" class=\"data row3 col0\" >IOS</td>\n",
       "                        <td id=\"T_18e09_row3_col1\" class=\"data row3 col1\" >old</td>\n",
       "                        <td id=\"T_18e09_row3_col2\" class=\"data row3 col2\" >click</td>\n",
       "                        <td id=\"T_18e09_row3_col3\" class=\"data row3 col3\" >235</td>\n",
       "                        <td id=\"T_18e09_row3_col4\" class=\"data row3 col4\" >no_click</td>\n",
       "                        <td id=\"T_18e09_row3_col5\" class=\"data row3 col5\" >821</td>\n",
       "                        <td id=\"T_18e09_row3_col6\" class=\"data row3 col6\" >22.250000</td>\n",
       "            </tr>\n",
       "            <tr>\n",
       "                        <th id=\"T_18e09_level0_row4\" class=\"row_heading level0 row4\" >4</th>\n",
       "                        <td id=\"T_18e09_row4_col0\" class=\"data row4 col0\" >LIN</td>\n",
       "                        <td id=\"T_18e09_row4_col1\" class=\"data row4 col1\" >new</td>\n",
       "                        <td id=\"T_18e09_row4_col2\" class=\"data row4 col2\" >click</td>\n",
       "                        <td id=\"T_18e09_row4_col3\" class=\"data row4 col3\" >4</td>\n",
       "                        <td id=\"T_18e09_row4_col4\" class=\"data row4 col4\" >no_click</td>\n",
       "                        <td id=\"T_18e09_row4_col5\" class=\"data row4 col5\" >9</td>\n",
       "                        <td id=\"T_18e09_row4_col6\" class=\"data row4 col6\" >30.770000</td>\n",
       "            </tr>\n",
       "            <tr>\n",
       "                        <th id=\"T_18e09_level0_row5\" class=\"row_heading level0 row5\" >5</th>\n",
       "                        <td id=\"T_18e09_row5_col0\" class=\"data row5 col0\" >LIN</td>\n",
       "                        <td id=\"T_18e09_row5_col1\" class=\"data row5 col1\" >old</td>\n",
       "                        <td id=\"T_18e09_row5_col2\" class=\"data row5 col2\" >click</td>\n",
       "                        <td id=\"T_18e09_row5_col3\" class=\"data row5 col3\" >1</td>\n",
       "                        <td id=\"T_18e09_row5_col4\" class=\"data row5 col4\" >no_click</td>\n",
       "                        <td id=\"T_18e09_row5_col5\" class=\"data row5 col5\" >15</td>\n",
       "                        <td id=\"T_18e09_row5_col6\" class=\"data row5 col6\" >6.250000</td>\n",
       "            </tr>\n",
       "            <tr>\n",
       "                        <th id=\"T_18e09_level0_row6\" class=\"row_heading level0 row6\" >6</th>\n",
       "                        <td id=\"T_18e09_row6_col0\" class=\"data row6 col0\" >MAC</td>\n",
       "                        <td id=\"T_18e09_row6_col1\" class=\"data row6 col1\" >new</td>\n",
       "                        <td id=\"T_18e09_row6_col2\" class=\"data row6 col2\" >click</td>\n",
       "                        <td id=\"T_18e09_row6_col3\" class=\"data row6 col3\" >25</td>\n",
       "                        <td id=\"T_18e09_row6_col4\" class=\"data row6 col4\" >no_click</td>\n",
       "                        <td id=\"T_18e09_row6_col5\" class=\"data row6 col5\" >60</td>\n",
       "                        <td id=\"T_18e09_row6_col6\" class=\"data row6 col6\" >29.410000</td>\n",
       "            </tr>\n",
       "            <tr>\n",
       "                        <th id=\"T_18e09_level0_row7\" class=\"row_heading level0 row7\" >7</th>\n",
       "                        <td id=\"T_18e09_row7_col0\" class=\"data row7 col0\" >MAC</td>\n",
       "                        <td id=\"T_18e09_row7_col1\" class=\"data row7 col1\" >old</td>\n",
       "                        <td id=\"T_18e09_row7_col2\" class=\"data row7 col2\" >click</td>\n",
       "                        <td id=\"T_18e09_row7_col3\" class=\"data row7 col3\" >25</td>\n",
       "                        <td id=\"T_18e09_row7_col4\" class=\"data row7 col4\" >no_click</td>\n",
       "                        <td id=\"T_18e09_row7_col5\" class=\"data row7 col5\" >54</td>\n",
       "                        <td id=\"T_18e09_row7_col6\" class=\"data row7 col6\" >31.650000</td>\n",
       "            </tr>\n",
       "            <tr>\n",
       "                        <th id=\"T_18e09_level0_row8\" class=\"row_heading level0 row8\" >8</th>\n",
       "                        <td id=\"T_18e09_row8_col0\" class=\"data row8 col0\" >UBT</td>\n",
       "                        <td id=\"T_18e09_row8_col1\" class=\"data row8 col1\" >new</td>\n",
       "                        <td id=\"T_18e09_row8_col2\" class=\"data row8 col2\" >click</td>\n",
       "                        <td id=\"T_18e09_row8_col3\" class=\"data row8 col3\" >2</td>\n",
       "                        <td id=\"T_18e09_row8_col4\" class=\"data row8 col4\" >no_click</td>\n",
       "                        <td id=\"T_18e09_row8_col5\" class=\"data row8 col5\" >1</td>\n",
       "                        <td id=\"T_18e09_row8_col6\" class=\"data row8 col6\" >66.670000</td>\n",
       "            </tr>\n",
       "            <tr>\n",
       "                        <th id=\"T_18e09_level0_row9\" class=\"row_heading level0 row9\" >9</th>\n",
       "                        <td id=\"T_18e09_row9_col0\" class=\"data row9 col0\" >UNK</td>\n",
       "                        <td id=\"T_18e09_row9_col1\" class=\"data row9 col1\" >new</td>\n",
       "                        <td id=\"T_18e09_row9_col2\" class=\"data row9 col2\" >click</td>\n",
       "                        <td id=\"T_18e09_row9_col3\" class=\"data row9 col3\" >1</td>\n",
       "                        <td id=\"T_18e09_row9_col4\" class=\"data row9 col4\" >no_click</td>\n",
       "                        <td id=\"T_18e09_row9_col5\" class=\"data row9 col5\" >17</td>\n",
       "                        <td id=\"T_18e09_row9_col6\" class=\"data row9 col6\" >5.560000</td>\n",
       "            </tr>\n",
       "            <tr>\n",
       "                        <th id=\"T_18e09_level0_row10\" class=\"row_heading level0 row10\" >10</th>\n",
       "                        <td id=\"T_18e09_row10_col0\" class=\"data row10 col0\" >WIN</td>\n",
       "                        <td id=\"T_18e09_row10_col1\" class=\"data row10 col1\" >new</td>\n",
       "                        <td id=\"T_18e09_row10_col2\" class=\"data row10 col2\" >click</td>\n",
       "                        <td id=\"T_18e09_row10_col3\" class=\"data row10 col3\" >349</td>\n",
       "                        <td id=\"T_18e09_row10_col4\" class=\"data row10 col4\" >no_click</td>\n",
       "                        <td id=\"T_18e09_row10_col5\" class=\"data row10 col5\" >1097</td>\n",
       "                        <td id=\"T_18e09_row10_col6\" class=\"data row10 col6\" >24.140000</td>\n",
       "            </tr>\n",
       "            <tr>\n",
       "                        <th id=\"T_18e09_level0_row11\" class=\"row_heading level0 row11\" >11</th>\n",
       "                        <td id=\"T_18e09_row11_col0\" class=\"data row11 col0\" >WIN</td>\n",
       "                        <td id=\"T_18e09_row11_col1\" class=\"data row11 col1\" >old</td>\n",
       "                        <td id=\"T_18e09_row11_col2\" class=\"data row11 col2\" >click</td>\n",
       "                        <td id=\"T_18e09_row11_col3\" class=\"data row11 col3\" >227</td>\n",
       "                        <td id=\"T_18e09_row11_col4\" class=\"data row11 col4\" >no_click</td>\n",
       "                        <td id=\"T_18e09_row11_col5\" class=\"data row11 col5\" >907</td>\n",
       "                        <td id=\"T_18e09_row11_col6\" class=\"data row11 col6\" >20.020000</td>\n",
       "            </tr>\n",
       "    </tbody></table>"
      ],
      "text/plain": [
       "<pandas.io.formats.style.Styler at 0x1a42a4642e0>"
      ]
     },
     "execution_count": 105,
     "metadata": {},
     "output_type": "execute_result"
    }
   ],
   "source": [
    "config_os.style.apply(highlight_greaterthan, threshold = \"WIN\", column=['config_os'], axis=1)"
   ]
  },
  {
   "cell_type": "markdown",
   "id": "a11cf692",
   "metadata": {},
   "source": [
    "We see that the os \"WIN\" conversions are different. To check statistical significance, we will again use Fisher's test"
   ]
  },
  {
   "cell_type": "code",
   "execution_count": 140,
   "id": "a2515636",
   "metadata": {},
   "outputs": [],
   "source": [
    "WIN = pd.pivot_table(df.query('config_os == \"WIN\"'), values='count', index=['Conversion'],\n",
    "                    columns=['A/B'], aggfunc=np.sum)\n",
    "WIN.index = WIN.index.to_flat_index()\n",
    "WIN.columns = WIN.columns.get_level_values(0).astype(str)\n",
    "WIN.columns = [''.join(col).strip() for col in WIN.columns.values]\n",
    "WIN.index = [''.join(ind).strip() for ind in WIN.index.values]"
   ]
  },
  {
   "cell_type": "code",
   "execution_count": 141,
   "id": "301b4670",
   "metadata": {},
   "outputs": [
    {
     "data": {
      "text/plain": [
       "(1.2711600319654324, 0.013256865433701658)"
      ]
     },
     "execution_count": 141,
     "metadata": {},
     "output_type": "execute_result"
    }
   ],
   "source": [
    "oddsr, p = fisher_exact(table=WIN.to_numpy(), alternative='two-sided')\n",
    "oddsr, p"
   ]
  },
  {
   "cell_type": "markdown",
   "id": "737d3a6b",
   "metadata": {},
   "source": [
    "p-value = 0.01. The differences are not statistically significant"
   ]
  },
  {
   "cell_type": "code",
   "execution_count": null,
   "id": "0f6a30f4",
   "metadata": {},
   "outputs": [],
   "source": []
  },
  {
   "cell_type": "code",
   "execution_count": 109,
   "id": "435dbb25",
   "metadata": {},
   "outputs": [],
   "source": [
    "platform_v4 = df.groupby(['platform_v4','A/B','Conversion'], as_index = False).agg({'count':'count'}).query('Conversion == \"click\"').rename(columns = {'Conversion':'click', 'count':'count_click'})\\\n",
    ".merge(df.groupby(['platform_v4','A/B','Conversion'], as_index = False).agg({'count':'count'}).query('Conversion == \"no_click\"').rename(columns = {'Conversion':'no_click', 'count':'count_no_click'}), how = 'inner', on = ['platform_v4','A/B'])"
   ]
  },
  {
   "cell_type": "code",
   "execution_count": 110,
   "id": "6439e276",
   "metadata": {},
   "outputs": [],
   "source": [
    "platform_v4['conversion'] = round(platform_v4['count_click'] / (platform_v4['count_click'] +  platform_v4['count_no_click']) * 100, 2)"
   ]
  },
  {
   "cell_type": "code",
   "execution_count": 112,
   "id": "bdadfa9d",
   "metadata": {},
   "outputs": [
    {
     "data": {
      "text/html": [
       "<style  type=\"text/css\" >\n",
       "#T_5dc2c_row2_col0,#T_5dc2c_row2_col1,#T_5dc2c_row2_col2,#T_5dc2c_row2_col3,#T_5dc2c_row2_col4,#T_5dc2c_row2_col5,#T_5dc2c_row2_col6,#T_5dc2c_row3_col0,#T_5dc2c_row3_col1,#T_5dc2c_row3_col2,#T_5dc2c_row3_col3,#T_5dc2c_row3_col4,#T_5dc2c_row3_col5,#T_5dc2c_row3_col6{\n",
       "            background-color:  orange;\n",
       "        }</style><table id=\"T_5dc2c_\" ><thead>    <tr>        <th class=\"blank level0\" ></th>        <th class=\"col_heading level0 col0\" >platform_v4</th>        <th class=\"col_heading level0 col1\" >A/B</th>        <th class=\"col_heading level0 col2\" >click</th>        <th class=\"col_heading level0 col3\" >count_click</th>        <th class=\"col_heading level0 col4\" >no_click</th>        <th class=\"col_heading level0 col5\" >count_no_click</th>        <th class=\"col_heading level0 col6\" >conversion</th>    </tr></thead><tbody>\n",
       "                <tr>\n",
       "                        <th id=\"T_5dc2c_level0_row0\" class=\"row_heading level0 row0\" >0</th>\n",
       "                        <td id=\"T_5dc2c_row0_col0\" class=\"data row0 col0\" >MOB</td>\n",
       "                        <td id=\"T_5dc2c_row0_col1\" class=\"data row0 col1\" >new</td>\n",
       "                        <td id=\"T_5dc2c_row0_col2\" class=\"data row0 col2\" >click</td>\n",
       "                        <td id=\"T_5dc2c_row0_col3\" class=\"data row0 col3\" >1446</td>\n",
       "                        <td id=\"T_5dc2c_row0_col4\" class=\"data row0 col4\" >no_click</td>\n",
       "                        <td id=\"T_5dc2c_row0_col5\" class=\"data row0 col5\" >12133</td>\n",
       "                        <td id=\"T_5dc2c_row0_col6\" class=\"data row0 col6\" >10.650000</td>\n",
       "            </tr>\n",
       "            <tr>\n",
       "                        <th id=\"T_5dc2c_level0_row1\" class=\"row_heading level0 row1\" >1</th>\n",
       "                        <td id=\"T_5dc2c_row1_col0\" class=\"data row1 col0\" >MOB</td>\n",
       "                        <td id=\"T_5dc2c_row1_col1\" class=\"data row1 col1\" >old</td>\n",
       "                        <td id=\"T_5dc2c_row1_col2\" class=\"data row1 col2\" >click</td>\n",
       "                        <td id=\"T_5dc2c_row1_col3\" class=\"data row1 col3\" >1068</td>\n",
       "                        <td id=\"T_5dc2c_row1_col4\" class=\"data row1 col4\" >no_click</td>\n",
       "                        <td id=\"T_5dc2c_row1_col5\" class=\"data row1 col5\" >8613</td>\n",
       "                        <td id=\"T_5dc2c_row1_col6\" class=\"data row1 col6\" >11.030000</td>\n",
       "            </tr>\n",
       "            <tr>\n",
       "                        <th id=\"T_5dc2c_level0_row2\" class=\"row_heading level0 row2\" >2</th>\n",
       "                        <td id=\"T_5dc2c_row2_col0\" class=\"data row2 col0\" >WEB</td>\n",
       "                        <td id=\"T_5dc2c_row2_col1\" class=\"data row2 col1\" >new</td>\n",
       "                        <td id=\"T_5dc2c_row2_col2\" class=\"data row2 col2\" >click</td>\n",
       "                        <td id=\"T_5dc2c_row2_col3\" class=\"data row2 col3\" >419</td>\n",
       "                        <td id=\"T_5dc2c_row2_col4\" class=\"data row2 col4\" >no_click</td>\n",
       "                        <td id=\"T_5dc2c_row2_col5\" class=\"data row2 col5\" >1431</td>\n",
       "                        <td id=\"T_5dc2c_row2_col6\" class=\"data row2 col6\" >22.650000</td>\n",
       "            </tr>\n",
       "            <tr>\n",
       "                        <th id=\"T_5dc2c_level0_row3\" class=\"row_heading level0 row3\" >3</th>\n",
       "                        <td id=\"T_5dc2c_row3_col0\" class=\"data row3 col0\" >WEB</td>\n",
       "                        <td id=\"T_5dc2c_row3_col1\" class=\"data row3 col1\" >old</td>\n",
       "                        <td id=\"T_5dc2c_row3_col2\" class=\"data row3 col2\" >click</td>\n",
       "                        <td id=\"T_5dc2c_row3_col3\" class=\"data row3 col3\" >282</td>\n",
       "                        <td id=\"T_5dc2c_row3_col4\" class=\"data row3 col4\" >no_click</td>\n",
       "                        <td id=\"T_5dc2c_row3_col5\" class=\"data row3 col5\" >1193</td>\n",
       "                        <td id=\"T_5dc2c_row3_col6\" class=\"data row3 col6\" >19.120000</td>\n",
       "            </tr>\n",
       "    </tbody></table>"
      ],
      "text/plain": [
       "<pandas.io.formats.style.Styler at 0x1a42a464790>"
      ]
     },
     "execution_count": 112,
     "metadata": {},
     "output_type": "execute_result"
    }
   ],
   "source": [
    "platform_v4.style.apply(highlight_greaterthan, threshold = \"WEB\", column=['platform_v4'], axis=1)"
   ]
  },
  {
   "cell_type": "markdown",
   "id": "7e660f75",
   "metadata": {},
   "source": [
    "We see that on \"WEB\" conversions are different. To check statistical significance, we will again use Fisher's test"
   ]
  },
  {
   "cell_type": "code",
   "execution_count": 136,
   "id": "df1789cc",
   "metadata": {},
   "outputs": [],
   "source": [
    "WEB = pd.pivot_table(df.query('platform_v4 == \"WEB\"'), values='count', index=['Conversion'],\n",
    "                    columns=['A/B'], aggfunc=np.sum)\n",
    "WEB.index = WEB.index.to_flat_index()\n",
    "WEB.columns = WEB.columns.get_level_values(0).astype(str)\n",
    "WEB.columns = [''.join(col).strip() for col in WEB.columns.values]\n",
    "WEB.index = [''.join(ind).strip() for ind in WEB.index.values]"
   ]
  },
  {
   "cell_type": "code",
   "execution_count": 137,
   "id": "1174d702",
   "metadata": {},
   "outputs": [
    {
     "data": {
      "text/plain": [
       "(1.238698821931794, 0.013118342618191635)"
      ]
     },
     "execution_count": 137,
     "metadata": {},
     "output_type": "execute_result"
    }
   ],
   "source": [
    "oddsr, p = fisher_exact(table=WEB.to_numpy(), alternative='two-sided')\n",
    "oddsr, p"
   ]
  },
  {
   "cell_type": "markdown",
   "id": "0d9a1f3c",
   "metadata": {},
   "source": [
    "p-value = 0.01. The differences are not statistically significant"
   ]
  },
  {
   "cell_type": "markdown",
   "id": "b1e710e0",
   "metadata": {},
   "source": [
    "A comparison of the total conversion yielded no results, the conversions are practically the same in the new and old versions.\n",
    " No statistically significant differences were found either. The comparison was carried out using Fisher's test, as a result we received a pvalue = 0.73, which is not statistically significant.\n",
    "A closer look revealed that only one browser, FIREFOX, had statistically significant differences. This could happen, for example, due to the fact that auto-filling of forms did not work in the browser during the test period (Firefox was the first among all browsers and most fully implemented the support of Enhanced Cookie Clearing as part of the general protection of Total Cookie Protection). Most likely, other users had the form autofill working fine and they didn't even notice the changes"
   ]
  },
  {
   "cell_type": "code",
   "execution_count": null,
   "id": "b3f662fb",
   "metadata": {},
   "outputs": [],
   "source": []
  }
 ],
 "metadata": {
  "kernelspec": {
   "display_name": "Python 3",
   "language": "python",
   "name": "python3"
  },
  "language_info": {
   "codemirror_mode": {
    "name": "ipython",
    "version": 3
   },
   "file_extension": ".py",
   "mimetype": "text/x-python",
   "name": "python",
   "nbconvert_exporter": "python",
   "pygments_lexer": "ipython3",
   "version": "3.8.5"
  }
 },
 "nbformat": 4,
 "nbformat_minor": 5
}
